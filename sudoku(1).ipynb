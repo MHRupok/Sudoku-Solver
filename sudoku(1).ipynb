{
 "cells": [
  {
   "cell_type": "code",
   "execution_count": 337,
   "metadata": {},
   "outputs": [],
   "source": [
    "import numpy as np\n",
    "import os\n",
    "import math\n",
    "import time\n",
    "import matplotlib.pyplot as plt"
   ]
  },
  {
   "cell_type": "code",
   "execution_count": 338,
   "metadata": {},
   "outputs": [],
   "source": [
    "'''Expert Level'''\n",
    "grid =[[0,6,2,0,1,7,0,5,0],\n",
    "       [0,0,0,0,0,0,0,2,0],\n",
    "       [0,5,0,0,0,0,7,0,0],\n",
    "       [0,0,0,2,0,0,0,6,9],\n",
    "       [0,4,1,0,0,0,0,0,0],\n",
    "       [0,0,0,8,9,0,0,0,0],\n",
    "       [1,0,0,0,7,4,0,0,5],\n",
    "       [0,0,0,0,0,0,0,0,0],\n",
    "       [3,0,0,0,5,0,1,0,0]]\n"
   ]
  },
  {
   "cell_type": "code",
   "execution_count": 339,
   "metadata": {},
   "outputs": [],
   "source": [
    "'''Hard level'''\n",
    "grid =[[8,5,0,9,0,3,0,0,4],\n",
    "       [0,0,0,6,0,0,0,0,5],\n",
    "       [1,0,0,7,0,0,0,0,0],\n",
    "       [0,8,7,0,0,5,0,0,0],\n",
    "       [9,0,2,0,0,0,8,0,3],\n",
    "       [0,0,0,8,0,0,7,6,0],\n",
    "       [0,0,0,0,0,9,0,0,8],\n",
    "       [2,0,0,0,0,6,0,0,0],\n",
    "       [7,0,0,3,0,8,0,4,6]]"
   ]
  },
  {
   "cell_type": "code",
   "execution_count": 340,
   "metadata": {},
   "outputs": [],
   "source": [
    "'''Medium Level'''\n",
    "grid =[[0,0,1,9,0,0,0,0,7],\n",
    "       [0,2,0,0,0,5,0,0,0],\n",
    "       [0,4,0,0,0,0,9,0,2],\n",
    "       [6,0,0,7,1,0,0,9,0],\n",
    "       [0,3,5,2,0,9,1,6,0],\n",
    "       [0,9,0,0,5,6,0,0,4],\n",
    "       [9,0,6,0,0,0,0,8,0],\n",
    "       [0,0,0,1,0,0,0,7,0],\n",
    "       [4,0,0,0,0,8,5,0,0]]"
   ]
  },
  {
   "cell_type": "code",
   "execution_count": 341,
   "metadata": {},
   "outputs": [],
   "source": [
    "def availableBox(arr):\n",
    "    for row in range(len(arr)):\n",
    "        for col in range(len(arr)):\n",
    "            if(arr[row][col]== 0):\n",
    "                return row,col\n",
    "\n",
    "    return False  "
   ]
  },
  {
   "cell_type": "code",
   "execution_count": 342,
   "metadata": {},
   "outputs": [],
   "source": [
    "def validInRow(arr,row,col,num):\n",
    "    for i in range(len(arr)):\n",
    "        if(arr[row][i]==num):\n",
    "            return False\n",
    "    return True            \n",
    "    "
   ]
  },
  {
   "cell_type": "code",
   "execution_count": 343,
   "metadata": {},
   "outputs": [],
   "source": [
    "def validInCol(arr,row,col,num):\n",
    "    for i in range(len(arr)):\n",
    "        if(arr[i][col]==num):\n",
    "            return False\n",
    "    return True"
   ]
  },
  {
   "cell_type": "code",
   "execution_count": 344,
   "metadata": {},
   "outputs": [],
   "source": [
    "def validInCube(arr,row,col,num):\n",
    "    if(row<3):\n",
    "        row = 0\n",
    "    if(row>2 and row<6):\n",
    "        row = 3\n",
    "    if(row>5):\n",
    "        row = 6\n",
    "    if(col<3):\n",
    "        col = 0\n",
    "    if(col>2 and col<6):\n",
    "        col = 3\n",
    "    if(col>5):\n",
    "        col = 6\n",
    "        \n",
    "    for i in range(3):\n",
    "        for j in range(3):\n",
    "            if(arr[row+i][col+j]==num):\n",
    "                return False\n",
    "    return True"
   ]
  },
  {
   "cell_type": "code",
   "execution_count": 345,
   "metadata": {},
   "outputs": [],
   "source": [
    "def allCheck(arr,row,col,num):\n",
    "    if(validInRow(arr,row,col,num) and validInCol(arr,row,col,num) and validInCube(arr,row,col,num)):\n",
    "        return True\n",
    "    return False"
   ]
  },
  {
   "cell_type": "code",
   "execution_count": 346,
   "metadata": {},
   "outputs": [],
   "source": [
    "def show(arr):\n",
    "    for i in range(len(arr)):\n",
    "        if(i==3 or i==6):\n",
    "            print('---------------------')\n",
    "        print(arr[i][0],arr[i][1],arr[i][2],'|',arr[i][3],arr[i][4],arr[i][5],'|',arr[i][6],arr[i][7],arr[i][8])"
   ]
  },
  {
   "cell_type": "code",
   "execution_count": 347,
   "metadata": {},
   "outputs": [],
   "source": [
    "def solveSudo(arr):\n",
    "    row = 0\n",
    "    col = 0\n",
    "    if(not availableBox(arr)):\n",
    "        return True\n",
    "    if(availableBox(arr)):\n",
    "        row,col = availableBox(arr)        \n",
    "    for num in range(1,10):\n",
    "        if(allCheck(grid,row,col,num)):\n",
    "            arr[row][col]=num            \n",
    "            if(solveSudo(arr)):\n",
    "                return True\n",
    "            arr[row][col]=0\n",
    "    \n",
    "    return False  \n"
   ]
  },
  {
   "cell_type": "code",
   "execution_count": 348,
   "metadata": {},
   "outputs": [],
   "source": [
    "def main(arr):\n",
    "    if(solveSudo(arr)):\n",
    "        show(arr)\n",
    "    else:\n",
    "        print('You have an error in Sudoku!')"
   ]
  },
  {
   "cell_type": "code",
   "execution_count": 349,
   "metadata": {},
   "outputs": [
    {
     "name": "stdout",
     "output_type": "stream",
     "text": [
      "5 6 1 | 9 8 2 | 3 4 7\n",
      "3 2 9 | 4 7 5 | 8 1 6\n",
      "8 4 7 | 3 6 1 | 9 5 2\n",
      "---------------------\n",
      "6 8 4 | 7 1 3 | 2 9 5\n",
      "7 3 5 | 2 4 9 | 1 6 8\n",
      "1 9 2 | 8 5 6 | 7 3 4\n",
      "---------------------\n",
      "9 1 6 | 5 2 7 | 4 8 3\n",
      "2 5 8 | 1 3 4 | 6 7 9\n",
      "4 7 3 | 6 9 8 | 5 2 1\n"
     ]
    }
   ],
   "source": [
    "main(grid)"
   ]
  },
  {
   "cell_type": "code",
   "execution_count": null,
   "metadata": {},
   "outputs": [],
   "source": []
  },
  {
   "cell_type": "markdown",
   "metadata": {},
   "source": [
    "# Sudoku Maker"
   ]
  },
  {
   "cell_type": "code",
   "execution_count": 350,
   "metadata": {},
   "outputs": [],
   "source": [
    "grid =[[0,0,0,0,0,0,0,0,0],\n",
    "       [0,0,0,0,0,0,0,0,0],\n",
    "       [0,0,0,0,0,0,0,0,0],\n",
    "       [0,0,0,0,0,0,0,0,0],\n",
    "       [0,0,0,0,0,0,0,0,0],\n",
    "       [0,0,0,0,0,0,0,0,0],\n",
    "       [0,0,0,0,0,0,0,0,0],\n",
    "       [0,0,0,0,0,0,0,0,0],\n",
    "       [0,0,0,0,0,0,0,0,0]]"
   ]
  },
  {
   "cell_type": "code",
   "execution_count": 351,
   "metadata": {},
   "outputs": [],
   "source": [
    "def availableBox(arr):\n",
    "    for row in range(len(arr)):\n",
    "        for col in range(len(arr)):\n",
    "            if(arr[row][col]== 0):\n",
    "                return row,col\n",
    "\n",
    "    return False "
   ]
  },
  {
   "cell_type": "code",
   "execution_count": 352,
   "metadata": {},
   "outputs": [],
   "source": [
    "def validInRow(arr,row,col,num):\n",
    "    for i in range(len(arr)):\n",
    "        if(arr[row][i]==num):\n",
    "            return False\n",
    "    return True            \n",
    "    "
   ]
  },
  {
   "cell_type": "code",
   "execution_count": 353,
   "metadata": {},
   "outputs": [],
   "source": [
    "def validInCol(arr,row,col,num):\n",
    "    for i in range(len(arr)):\n",
    "        if(arr[i][col]==num):\n",
    "            return False\n",
    "    return True"
   ]
  },
  {
   "cell_type": "code",
   "execution_count": 354,
   "metadata": {},
   "outputs": [],
   "source": [
    "def validInCube(arr,row,col,num):\n",
    "    if(row<3):\n",
    "        row = 0\n",
    "    if(row>2 and row<6):\n",
    "        row = 3\n",
    "    if(row>5):\n",
    "        row = 6\n",
    "    if(col<3):\n",
    "        col = 0\n",
    "    if(col>2 and col<6):\n",
    "        col = 3\n",
    "    if(col>5):\n",
    "        col = 6\n",
    "        \n",
    "    for i in range(3):\n",
    "        for j in range(3):\n",
    "            if(arr[row+i][col+j]==num):\n",
    "                return False\n",
    "    return True"
   ]
  },
  {
   "cell_type": "code",
   "execution_count": 355,
   "metadata": {},
   "outputs": [],
   "source": [
    "def allCheck(arr,row,col,num):\n",
    "    if(validInRow(arr,row,col,num) and validInCol(arr,row,col,num) and validInCube(arr,row,col,num)):\n",
    "        return True\n",
    "    return False"
   ]
  },
  {
   "cell_type": "code",
   "execution_count": 356,
   "metadata": {},
   "outputs": [],
   "source": [
    "def show(arr):\n",
    "    for i in range(len(arr)):\n",
    "        if(i==3 or i==6):\n",
    "            print('---------------------')\n",
    "        print(arr[i][0],arr[i][1],arr[i][2],'|',arr[i][3],arr[i][4],arr[i][5],'|',arr[i][6],arr[i][7],arr[i][8])"
   ]
  },
  {
   "cell_type": "code",
   "execution_count": 357,
   "metadata": {},
   "outputs": [],
   "source": [
    "def initial(arr):\n",
    "    for row in range(len(arr)):\n",
    "        for col in range(len(arr)):\n",
    "            arr[row][col]=0"
   ]
  },
  {
   "cell_type": "code",
   "execution_count": 358,
   "metadata": {},
   "outputs": [],
   "source": [
    "def makeSudo(arr):\n",
    "    row = 0\n",
    "    col = 0\n",
    "    if(not availableBox(arr)):\n",
    "        return True\n",
    "    if(availableBox(arr)):\n",
    "        row,col = availableBox(arr)        \n",
    "    for num in range(1,10):\n",
    "        if(allCheck(grid,row,col,num)):\n",
    "            arr[row][col]=num            \n",
    "            if(solveSudo(arr)):\n",
    "                return True\n",
    "            arr[row][col]=0\n",
    "    \n",
    "    return False "
   ]
  },
  {
   "cell_type": "code",
   "execution_count": 368,
   "metadata": {},
   "outputs": [],
   "source": [
    "def sudoku():\n",
    "    initial(grid)\n",
    "    N=[]\n",
    "    counter = 0\n",
    "    gap = 7\n",
    "    while(True):\n",
    "        if(counter==9):\n",
    "            break\n",
    "        r = np.random.choice(10)\n",
    "        if(r!=0):\n",
    "            if(r not in N):\n",
    "                N.append(r)\n",
    "                counter = counter +1\n",
    "    for col in range(9):\n",
    "        grid[0][col]=N[col]\n",
    "    makeSudo(grid)\n",
    "    for row in range(9):\n",
    "        for col in range(gap):\n",
    "            g = np.random.choice(9)\n",
    "            grid[row][g]=0\n",
    "    show(grid)"
   ]
  },
  {
   "cell_type": "code",
   "execution_count": 369,
   "metadata": {},
   "outputs": [
    {
     "name": "stdout",
     "output_type": "stream",
     "text": [
      "0 0 0 | 0 8 0 | 0 2 4\n",
      "0 3 0 | 0 7 9 | 0 0 8\n",
      "0 0 0 | 2 3 0 | 1 7 9\n",
      "---------------------\n",
      "1 0 0 | 0 5 0 | 0 0 7\n",
      "4 0 0 | 0 0 0 | 2 0 3\n",
      "0 0 7 | 3 1 0 | 0 0 0\n",
      "---------------------\n",
      "3 4 1 | 0 0 0 | 9 8 0\n",
      "0 8 0 | 0 0 1 | 0 3 5\n",
      "0 7 0 | 0 0 3 | 6 0 0\n"
     ]
    }
   ],
   "source": [
    "sudoku()"
   ]
  },
  {
   "cell_type": "code",
   "execution_count": 370,
   "metadata": {},
   "outputs": [
    {
     "name": "stdout",
     "output_type": "stream",
     "text": [
      "7 1 9 | 6 8 5 | 3 2 4\n",
      "2 3 4 | 1 7 9 | 5 6 8\n",
      "5 6 8 | 2 3 4 | 1 7 9\n",
      "---------------------\n",
      "1 2 3 | 4 5 6 | 8 9 7\n",
      "4 5 6 | 7 9 8 | 2 1 3\n",
      "8 9 7 | 3 1 2 | 4 5 6\n",
      "---------------------\n",
      "3 4 1 | 5 6 7 | 9 8 2\n",
      "6 8 2 | 9 4 1 | 7 3 5\n",
      "9 7 5 | 8 2 3 | 6 4 1\n"
     ]
    }
   ],
   "source": [
    "main(grid)"
   ]
  },
  {
   "cell_type": "code",
   "execution_count": null,
   "metadata": {},
   "outputs": [],
   "source": []
  }
 ],
 "metadata": {
  "kernelspec": {
   "display_name": "Python 3",
   "language": "python",
   "name": "python3"
  },
  "language_info": {
   "codemirror_mode": {
    "name": "ipython",
    "version": 3
   },
   "file_extension": ".py",
   "mimetype": "text/x-python",
   "name": "python",
   "nbconvert_exporter": "python",
   "pygments_lexer": "ipython3",
   "version": "3.7.4"
  }
 },
 "nbformat": 4,
 "nbformat_minor": 2
}
